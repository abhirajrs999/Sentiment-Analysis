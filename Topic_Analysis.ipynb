{
  "nbformat": 4,
  "nbformat_minor": 0,
  "metadata": {
    "colab": {
      "provenance": []
    },
    "kernelspec": {
      "name": "python3",
      "display_name": "Python 3"
    },
    "language_info": {
      "name": "python"
    }
  },
  "cells": [
    {
      "cell_type": "code",
      "execution_count": null,
      "metadata": {
        "colab": {
          "base_uri": "https://localhost:8080/",
          "height": 206
        },
        "id": "fhZNBoMGo2ui",
        "outputId": "6e2914f0-a3e1-407b-f6bd-1409f4733980"
      },
      "outputs": [
        {
          "output_type": "execute_result",
          "data": {
            "text/plain": [
              "   Unnamed: 0                           title  \\\n",
              "0           0  Eye Filter (Blue light filter)   \n",
              "1           1   Drizly: Fast alcohol delivery   \n",
              "2           2              Card Maker for PKM   \n",
              "3           3   Progression - Workout Tracker   \n",
              "4           4                     My Finances   \n",
              "\n",
              "                                         description  \\\n",
              "0  This app draws a translucent mask over screen,...   \n",
              "1  Get the door. It's the liquor store.™\\r\\n\\r\\nL...   \n",
              "2  PKM Card Maker is where you can make your own ...   \n",
              "3  Workout tracking, made simple and beautiful\\r\\...   \n",
              "4  My Finances is a perfect tool for expense cont...   \n",
              "\n",
              "                                       recentChanges  \n",
              "0     Minor improvement.\\r\\nAllow remove ads by IAP.  \n",
              "1  Fixes bug with facebook login and creating a n...  \n",
              "2                    - 🛠 Improvement and bug fix !!   \n",
              "3                                                NaN  \n",
              "4                             Fix for fullscreen Ads  "
            ],
            "text/html": [
              "\n",
              "  <div id=\"df-469dd820-902d-4b85-a198-6ecfe08ab08b\">\n",
              "    <div class=\"colab-df-container\">\n",
              "      <div>\n",
              "<style scoped>\n",
              "    .dataframe tbody tr th:only-of-type {\n",
              "        vertical-align: middle;\n",
              "    }\n",
              "\n",
              "    .dataframe tbody tr th {\n",
              "        vertical-align: top;\n",
              "    }\n",
              "\n",
              "    .dataframe thead th {\n",
              "        text-align: right;\n",
              "    }\n",
              "</style>\n",
              "<table border=\"1\" class=\"dataframe\">\n",
              "  <thead>\n",
              "    <tr style=\"text-align: right;\">\n",
              "      <th></th>\n",
              "      <th>Unnamed: 0</th>\n",
              "      <th>title</th>\n",
              "      <th>description</th>\n",
              "      <th>recentChanges</th>\n",
              "    </tr>\n",
              "  </thead>\n",
              "  <tbody>\n",
              "    <tr>\n",
              "      <th>0</th>\n",
              "      <td>0</td>\n",
              "      <td>Eye Filter (Blue light filter)</td>\n",
              "      <td>This app draws a translucent mask over screen,...</td>\n",
              "      <td>Minor improvement.\\r\\nAllow remove ads by IAP.</td>\n",
              "    </tr>\n",
              "    <tr>\n",
              "      <th>1</th>\n",
              "      <td>1</td>\n",
              "      <td>Drizly: Fast alcohol delivery</td>\n",
              "      <td>Get the door. It's the liquor store.™\\r\\n\\r\\nL...</td>\n",
              "      <td>Fixes bug with facebook login and creating a n...</td>\n",
              "    </tr>\n",
              "    <tr>\n",
              "      <th>2</th>\n",
              "      <td>2</td>\n",
              "      <td>Card Maker for PKM</td>\n",
              "      <td>PKM Card Maker is where you can make your own ...</td>\n",
              "      <td>- 🛠 Improvement and bug fix !!</td>\n",
              "    </tr>\n",
              "    <tr>\n",
              "      <th>3</th>\n",
              "      <td>3</td>\n",
              "      <td>Progression - Workout Tracker</td>\n",
              "      <td>Workout tracking, made simple and beautiful\\r\\...</td>\n",
              "      <td>NaN</td>\n",
              "    </tr>\n",
              "    <tr>\n",
              "      <th>4</th>\n",
              "      <td>4</td>\n",
              "      <td>My Finances</td>\n",
              "      <td>My Finances is a perfect tool for expense cont...</td>\n",
              "      <td>Fix for fullscreen Ads</td>\n",
              "    </tr>\n",
              "  </tbody>\n",
              "</table>\n",
              "</div>\n",
              "      <button class=\"colab-df-convert\" onclick=\"convertToInteractive('df-469dd820-902d-4b85-a198-6ecfe08ab08b')\"\n",
              "              title=\"Convert this dataframe to an interactive table.\"\n",
              "              style=\"display:none;\">\n",
              "        \n",
              "  <svg xmlns=\"http://www.w3.org/2000/svg\" height=\"24px\"viewBox=\"0 0 24 24\"\n",
              "       width=\"24px\">\n",
              "    <path d=\"M0 0h24v24H0V0z\" fill=\"none\"/>\n",
              "    <path d=\"M18.56 5.44l.94 2.06.94-2.06 2.06-.94-2.06-.94-.94-2.06-.94 2.06-2.06.94zm-11 1L8.5 8.5l.94-2.06 2.06-.94-2.06-.94L8.5 2.5l-.94 2.06-2.06.94zm10 10l.94 2.06.94-2.06 2.06-.94-2.06-.94-.94-2.06-.94 2.06-2.06.94z\"/><path d=\"M17.41 7.96l-1.37-1.37c-.4-.4-.92-.59-1.43-.59-.52 0-1.04.2-1.43.59L10.3 9.45l-7.72 7.72c-.78.78-.78 2.05 0 2.83L4 21.41c.39.39.9.59 1.41.59.51 0 1.02-.2 1.41-.59l7.78-7.78 2.81-2.81c.8-.78.8-2.07 0-2.86zM5.41 20L4 18.59l7.72-7.72 1.47 1.35L5.41 20z\"/>\n",
              "  </svg>\n",
              "      </button>\n",
              "      \n",
              "  <style>\n",
              "    .colab-df-container {\n",
              "      display:flex;\n",
              "      flex-wrap:wrap;\n",
              "      gap: 12px;\n",
              "    }\n",
              "\n",
              "    .colab-df-convert {\n",
              "      background-color: #E8F0FE;\n",
              "      border: none;\n",
              "      border-radius: 50%;\n",
              "      cursor: pointer;\n",
              "      display: none;\n",
              "      fill: #1967D2;\n",
              "      height: 32px;\n",
              "      padding: 0 0 0 0;\n",
              "      width: 32px;\n",
              "    }\n",
              "\n",
              "    .colab-df-convert:hover {\n",
              "      background-color: #E2EBFA;\n",
              "      box-shadow: 0px 1px 2px rgba(60, 64, 67, 0.3), 0px 1px 3px 1px rgba(60, 64, 67, 0.15);\n",
              "      fill: #174EA6;\n",
              "    }\n",
              "\n",
              "    [theme=dark] .colab-df-convert {\n",
              "      background-color: #3B4455;\n",
              "      fill: #D2E3FC;\n",
              "    }\n",
              "\n",
              "    [theme=dark] .colab-df-convert:hover {\n",
              "      background-color: #434B5C;\n",
              "      box-shadow: 0px 1px 3px 1px rgba(0, 0, 0, 0.15);\n",
              "      filter: drop-shadow(0px 1px 2px rgba(0, 0, 0, 0.3));\n",
              "      fill: #FFFFFF;\n",
              "    }\n",
              "  </style>\n",
              "\n",
              "      <script>\n",
              "        const buttonEl =\n",
              "          document.querySelector('#df-469dd820-902d-4b85-a198-6ecfe08ab08b button.colab-df-convert');\n",
              "        buttonEl.style.display =\n",
              "          google.colab.kernel.accessAllowed ? 'block' : 'none';\n",
              "\n",
              "        async function convertToInteractive(key) {\n",
              "          const element = document.querySelector('#df-469dd820-902d-4b85-a198-6ecfe08ab08b');\n",
              "          const dataTable =\n",
              "            await google.colab.kernel.invokeFunction('convertToInteractive',\n",
              "                                                     [key], {});\n",
              "          if (!dataTable) return;\n",
              "\n",
              "          const docLinkHtml = 'Like what you see? Visit the ' +\n",
              "            '<a target=\"_blank\" href=https://colab.research.google.com/notebooks/data_table.ipynb>data table notebook</a>'\n",
              "            + ' to learn more about interactive tables.';\n",
              "          element.innerHTML = '';\n",
              "          dataTable['output_type'] = 'display_data';\n",
              "          await google.colab.output.renderOutput(dataTable, element);\n",
              "          const docLink = document.createElement('div');\n",
              "          docLink.innerHTML = docLinkHtml;\n",
              "          element.appendChild(docLink);\n",
              "        }\n",
              "      </script>\n",
              "    </div>\n",
              "  </div>\n",
              "  "
            ]
          },
          "metadata": {},
          "execution_count": 2
        }
      ],
      "source": [
        "# Importing modules\n",
        "import pandas as pd\n",
        "# Read data into papers\n",
        "papers = pd.read_csv('/content/final.csv')\n",
        "# Print head\n",
        "papers.head()"
      ]
    },
    {
      "cell_type": "code",
      "source": [
        "# Load the regular expression library\n",
        "import re\n",
        "# Remove punctuation\n",
        "papers['recentChanges']=papers['recentChanges'].apply(str)\n",
        "papers['paper_text_processed'] = papers['recentChanges'].map(lambda x: re.sub('[,\\.!?]', '', x))\n",
        "papers['paper_text_processed'] = papers['recentChanges'].map(lambda x: re.sub('[www]', '', x))\n",
        "papers['paper_text_processed'] = papers['recentChanges'].map(lambda x: re.sub('[com]', '', x))\n",
        "\n",
        "# Convert the titles to lowercase\n",
        "papers['paper_text_processed'] = papers['paper_text_processed'].map(lambda x: x.lower())\n",
        "# Print out the first rows of papers\n",
        "papers['paper_text_processed'].head()"
      ],
      "metadata": {
        "colab": {
          "base_uri": "https://localhost:8080/"
        },
        "id": "tiBuN8s7V-3h",
        "outputId": "0c7e6fb3-d35d-4dfc-f9cc-6713e0ca349d"
      },
      "execution_count": null,
      "outputs": [
        {
          "output_type": "execute_result",
          "data": {
            "text/plain": [
              "0              minr iprveent.\\r\\nallw reve ads by iap.\n",
              "1    fixes bug with faebk lgin and reating a new dr...\n",
              "2                         - 🛠 iprveent and bug fix !! \n",
              "3                                                  nan\n",
              "4                                 fix fr fullsreen ads\n",
              "Name: paper_text_processed, dtype: object"
            ]
          },
          "metadata": {},
          "execution_count": 6
        }
      ]
    },
    {
      "cell_type": "code",
      "source": [
        "# Import the wordcloud library\n",
        "from wordcloud import WordCloud\n",
        "# Join the different processed titles together.\n",
        "long_string = ','.join(list(papers['paper_text_processed'].values))\n",
        "# Create a WordCloud object\n",
        "wordcloud = WordCloud(background_color=\"white\", max_words=5000, contour_width=3, contour_color='steelblue')\n",
        "# Generate a word cloud\n",
        "wordcloud.generate(long_string)\n",
        "# Visualize the word cloud\n",
        "wordcloud.to_image()"
      ],
      "metadata": {
        "colab": {
          "base_uri": "https://localhost:8080/",
          "height": 217
        },
        "id": "Q9xdHTY1XWg8",
        "outputId": "6a99b156-13f2-4224-eebc-e6fa014864fa"
      },
      "execution_count": null,
      "outputs": [
        {
          "output_type": "execute_result",
          "data": {
            "text/plain": [
              "<PIL.Image.Image image mode=RGB size=400x200 at 0x7F0A9B07B1D0>"
            ],
            "image/png": "[encoded data removed]"
          },
          "metadata": {},
          "execution_count": 7
        }
      ]
    },
    {
      "cell_type": "code",
      "source": [
        "import gensim\n",
        "from gensim.utils import simple_preprocess\n",
        "import nltk\n",
        "nltk.download('stopwords')\n",
        "from nltk.corpus import stopwords\n",
        "stop_words = stopwords.words('english')\n",
        "stop_words.extend(['from', 'subject', 're', 'edu', 'use'])\n",
        "def sent_to_words(sentences):\n",
        "    for sentence in sentences:\n",
        "        # deacc=True removes punctuations\n",
        "        yield(gensim.utils.simple_preprocess(str(sentence), deacc=True))\n",
        "def remove_stopwords(texts):\n",
        "    return [[word for word in simple_preprocess(str(doc))\n",
        "             if word not in stop_words] for doc in texts]\n",
        "data = papers.paper_text_processed.values.tolist()\n",
        "data_words = list(sent_to_words(data))\n",
        "# remove stop words\n",
        "data_words = remove_stopwords(data_words)\n",
        "print(data_words[:1][0][:30])"
      ],
      "metadata": {
        "colab": {
          "base_uri": "https://localhost:8080/"
        },
        "id": "ePOXDO81XkAZ",
        "outputId": "9196a9d7-76d9-457d-ce6b-9d4103219c47"
      },
      "execution_count": null,
      "outputs": [
        {
          "output_type": "stream",
          "name": "stderr",
          "text": [
            "[nltk_data] Downloading package stopwords to /root/nltk_data...\n",
            "[nltk_data]   Unzipping corpora/stopwords.zip.\n"
          ]
        },
        {
          "output_type": "stream",
          "name": "stdout",
          "text": [
            "['minr', 'iprveent', 'allw', 'reve', 'ads', 'iap']\n"
          ]
        }
      ]
    },
    {
      "cell_type": "code",
      "source": [
        "import gensim.corpora as corpora\n",
        "# Create Dictionary\n",
        "id2word = corpora.Dictionary(data_words)\n",
        "# Create Corpus\n",
        "texts = data_words\n",
        "# Term Document Frequency\n",
        "corpus = [id2word.doc2bow(text) for text in texts]\n",
        "# View\n",
        "print(corpus[:1][0][:30])"
      ],
      "metadata": {
        "colab": {
          "base_uri": "https://localhost:8080/"
        },
        "id": "8SCawlcGlB-H",
        "outputId": "3d0db3a6-cbb5-4050-9db2-a84ebc48dda6"
      },
      "execution_count": null,
      "outputs": [
        {
          "output_type": "stream",
          "name": "stdout",
          "text": [
            "[(0, 1), (1, 1), (2, 1), (3, 1), (4, 1), (5, 1)]\n"
          ]
        }
      ]
    },
    {
      "cell_type": "code",
      "source": [
        "from pprint import pprint\n",
        "# number of topics\n",
        "num_topics = 10\n",
        "# Build LDA model\n",
        "lda_model = gensim.models.LdaMulticore(corpus=corpus,\n",
        "                                       id2word=id2word,\n",
        "                                       num_topics=num_topics)\n",
        "# Print the Keyword in the 10 topics\n",
        "pprint(lda_model.print_topics())\n",
        "doc_lda = lda_model[corpus]"
      ],
      "metadata": {
        "colab": {
          "base_uri": "https://localhost:8080/"
        },
        "id": "XCMr8M1cXow5",
        "outputId": "1c6aad15-1aea-4300-fa63-50867f09e5b4"
      },
      "execution_count": null,
      "outputs": [
        {
          "output_type": "stream",
          "name": "stderr",
          "text": [
            "WARNING:gensim.models.ldamulticore:too few updates, training might not converge; consider increasing the number of passes or iterations to improve accuracy\n"
          ]
        },
        {
          "output_type": "stream",
          "name": "stdout",
          "text": [
            "[(0,\n",
            "  '0.026*\"yu\" + 0.019*\"fr\" + 0.018*\"yur\" + 0.016*\"fixed\" + 0.014*\"app\" + '\n",
            "  '0.013*\"new\" + 0.010*\"bug\" + 0.010*\"andrid\" + 0.009*\"de\" + 0.009*\"added\"'),\n",
            " (1,\n",
            "  '0.050*\"fixes\" + 0.043*\"bug\" + 0.032*\"yu\" + 0.029*\"iprveents\" + 0.025*\"fr\" + '\n",
            "  '0.018*\"app\" + 0.016*\"yur\" + 0.016*\"new\" + 0.013*\"perfrane\" + 0.012*\"minr\"'),\n",
            " (2,\n",
            "  '0.038*\"perfrane\" + 0.025*\"iprveents\" + 0.024*\"fixes\" + 0.023*\"fr\" + '\n",
            "  '0.019*\"bug\" + 0.019*\"bugs\" + 0.018*\"app\" + 0.017*\"fixed\" + 0.015*\"iprved\" + '\n",
            "  '0.013*\"yu\"'),\n",
            " (3,\n",
            "  '0.033*\"added\" + 0.020*\"new\" + 0.017*\"fr\" + 0.013*\"fixed\" + 0.012*\"fixes\" + '\n",
            "  '0.012*\"bug\" + 0.011*\"bugs\" + 0.009*\"andrid\" + 0.008*\"de\" + 0.008*\"supprt\"'),\n",
            " (4,\n",
            "  '0.039*\"fr\" + 0.020*\"new\" + 0.019*\"app\" + 0.016*\"user\" + 0.016*\"yu\" + '\n",
            "  '0.015*\"yur\" + 0.015*\"bug\" + 0.014*\"added\" + 0.014*\"fixed\" + 0.014*\"fixes\"'),\n",
            " (5,\n",
            "  '0.028*\"fr\" + 0.019*\"iprved\" + 0.014*\"app\" + 0.013*\"fixes\" + 0.013*\"yu\" + '\n",
            "  '0.011*\"nw\" + 0.011*\"de\" + 0.010*\"axi\" + 0.010*\"bug\" + 0.009*\"new\"'),\n",
            " (6,\n",
            "  '0.041*\"nan\" + 0.029*\"iprveents\" + 0.023*\"fixes\" + 0.020*\"bug\" + 0.019*\"fr\" '\n",
            "  '+ 0.016*\"yu\" + 0.013*\"stability\" + 0.012*\"update\" + 0.012*\"iprved\" + '\n",
            "  '0.009*\"app\"'),\n",
            " (7,\n",
            "  '0.023*\"se\" + 0.022*\"fr\" + 0.021*\"fix\" + 0.020*\"bugs\" + 0.017*\"fixed\" + '\n",
            "  '0.015*\"iprveents\" + 0.013*\"minr\" + 0.012*\"bug\" + 0.010*\"fixes\" + '\n",
            "  '0.009*\"new\"'),\n",
            " (8,\n",
            "  '0.032*\"fr\" + 0.030*\"fixed\" + 0.029*\"nan\" + 0.013*\"yu\" + 0.011*\"yur\" + '\n",
            "  '0.011*\"ads\" + 0.009*\"issue\" + 0.008*\"bugs\" + 0.007*\"settings\" + '\n",
            "  '0.006*\"added\"'),\n",
            " (9,\n",
            "  '0.024*\"app\" + 0.021*\"bug\" + 0.018*\"update\" + 0.015*\"fixes\" + 0.014*\"mre\" + '\n",
            "  '0.013*\"fixed\" + 0.013*\"added\" + 0.011*\"fr\" + 0.010*\"new\" + '\n",
            "  '0.010*\"enhaneents\"')]\n"
          ]
        }
      ]
    },
    {
      "cell_type": "code",
      "source": [
        "from gensim.models import CoherenceModel\n",
        "# Compute Coherence Score\n",
        "coherence_model_lda = CoherenceModel(model=lda_model, texts=data_words, dictionary=id2word, coherence='c_v')\n",
        "coherence_lda = coherence_model_lda.get_coherence()\n",
        "print('\\nCoherence Score: ', coherence_lda)"
      ],
      "metadata": {
        "colab": {
          "base_uri": "https://localhost:8080/"
        },
        "id": "yn2z9PZgtmcN",
        "outputId": "ec236b8a-766f-4c9a-8eb8-d5f283117268"
      },
      "execution_count": null,
      "outputs": [
        {
          "output_type": "stream",
          "name": "stdout",
          "text": [
            "\n",
            "Coherence Score:  0.48434103439707554\n"
          ]
        }
      ]
    },
    {
      "cell_type": "markdown",
      "source": [
        "**Finding Optimal Number of Topics for highest coherence value**"
      ],
      "metadata": {
        "id": "J2Rg9p46vnBU"
      }
    },
    {
      "cell_type": "code",
      "source": [
        "def compute_coherence_values(dictionary, corpus, texts, limit, start=2, step=3):\n",
        "    \"\"\"\n",
        "    Compute c_v coherence for various number of topics\n",
        "\n",
        "    Parameters:\n",
        "    ----------\n",
        "    dictionary : Gensim dictionary\n",
        "    corpus : Gensim corpus\n",
        "    texts : List of input texts\n",
        "    limit : Max num of topics\n",
        "\n",
        "    Returns:\n",
        "    -------\n",
        "    model_list : List of LDA topic models\n",
        "    coherence_values : Coherence values corresponding to the LDA model with respective number of topics\n",
        "    \"\"\"\n",
        "    coherence_values = []\n",
        "    model_list = []\n",
        "    for num_topics in range(start, limit, step):\n",
        "        model =  lda_model = gensim.models.LdaMulticore(corpus=corpus,\n",
        "                                           id2word=dictionary,\n",
        "                                           num_topics=num_topics,\n",
        "                                           random_state=100,\n",
        "                                           chunksize=100,\n",
        "                                           passes=10,)\n",
        "        model_list.append(model)\n",
        "        coherencemodel = CoherenceModel(model=model, texts=texts, dictionary=dictionary, coherence='c_v')\n",
        "        coherence_values.append(coherencemodel.get_coherence())\n",
        "\n",
        "    return model_list, coherence_values"
      ],
      "metadata": {
        "id": "UD0Pc9C3m2eI"
      },
      "execution_count": null,
      "outputs": []
    },
    {
      "cell_type": "code",
      "source": [
        "model_list, coherence_values = compute_coherence_values(dictionary=id2word, corpus=corpus, texts=data_words, start=2, limit=40, step=6)"
      ],
      "metadata": {
        "id": "8F_HYck-le0C"
      },
      "execution_count": null,
      "outputs": []
    },
    {
      "cell_type": "code",
      "source": [
        "# Show graph\n",
        "import matplotlib.pyplot as plt\n",
        "limit=40; start=2; step=6;\n",
        "x = range(start, limit, step)\n",
        "plt.plot(x, coherence_values)\n",
        "plt.xlabel(\"Num Topics\")\n",
        "plt.ylabel(\"Coherence score\")\n",
        "plt.legend((\"coherence_values\"), loc='best')\n",
        "plt.show()"
      ],
      "metadata": {
        "colab": {
          "base_uri": "https://localhost:8080/",
          "height": 283
        },
        "id": "h51xtVX8iyUl",
        "outputId": "e17a426c-ec39-4794-da15-c7d621158aa1"
      },
      "execution_count": null,
      "outputs": [
        {
          "output_type": "display_data",
          "data": {
            "text/plain": [
              "<Figure size 432x288 with 1 Axes>"
            ],
            "image/png": "[encoded data removed]"
          },
          "metadata": {
            "needs_background": "light"
          }
        }
      ]
    },
    {
      "cell_type": "code",
      "source": [
        "# Print the coherence scores\n",
        "for m, cv in zip(x, coherence_values):\n",
        "    print(\"Num Topics =\", m, \" has Coherence Value of\", round(cv, 4))"
      ],
      "metadata": {
        "colab": {
          "base_uri": "https://localhost:8080/"
        },
        "id": "5jF5qe9WoeLO",
        "outputId": "10cfa5af-0b4d-413f-d6ec-a4de9e4c669d"
      },
      "execution_count": null,
      "outputs": [
        {
          "output_type": "stream",
          "name": "stdout",
          "text": [
            "Num Topics = 2  has Coherence Value of 0.6168\n",
            "Num Topics = 8  has Coherence Value of 0.4864\n",
            "Num Topics = 14  has Coherence Value of 0.4672\n",
            "Num Topics = 20  has Coherence Value of 0.4557\n",
            "Num Topics = 26  has Coherence Value of 0.4741\n",
            "Num Topics = 32  has Coherence Value of 0.4776\n",
            "Num Topics = 38  has Coherence Value of 0.4438\n"
          ]
        }
      ]
    },
    {
      "cell_type": "code",
      "source": [
        "#Finding index of max coherence value then using it to get optimal num_topics\n",
        "index= coherence_values.index(max(coherence_values))\n",
        "num_topics= x[index]\n",
        "print(num_topics)"
      ],
      "metadata": {
        "colab": {
          "base_uri": "https://localhost:8080/"
        },
        "id": "zeIFHe2ltKEm",
        "outputId": "90179ba5-440c-4675-e993-e75a9616d364"
      },
      "execution_count": null,
      "outputs": [
        {
          "output_type": "stream",
          "name": "stdout",
          "text": [
            "2\n"
          ]
        }
      ]
    },
    {
      "cell_type": "code",
      "source": [
        "lda_model = gensim.models.LdaMulticore(corpus=corpus,\n",
        "                                           id2word=id2word,\n",
        "                                           num_topics=num_topics,\n",
        "                                           random_state=100,\n",
        "                                           chunksize=100,\n",
        "                                           passes=10,\n",
        "                                           )"
      ],
      "metadata": {
        "id": "75rohpHr2G_N"
      },
      "execution_count": null,
      "outputs": []
    },
    {
      "cell_type": "code",
      "source": [
        "from gensim.models import CoherenceModel\n",
        "# Compute Coherence Score\n",
        "coherence_model_lda = CoherenceModel(model=lda_model, texts=data_words, dictionary=id2word, coherence='c_v')\n",
        "coherence_lda = coherence_model_lda.get_coherence()\n",
        "print('\\nCoherence Score: ', coherence_lda)"
      ],
      "metadata": {
        "colab": {
          "base_uri": "https://localhost:8080/"
        },
        "id": "bA08SAsH2YxL",
        "outputId": "951e09fd-c57d-4cdb-fcc8-f40a52465f6a"
      },
      "execution_count": null,
      "outputs": [
        {
          "output_type": "stream",
          "name": "stdout",
          "text": [
            "\n",
            "Coherence Score:  0.6117714042174092\n"
          ]
        }
      ]
    },
    {
      "cell_type": "code",
      "source": [
        "!pip install pyLDAvis"
      ],
      "metadata": {
        "colab": {
          "base_uri": "https://localhost:8080/"
        },
        "id": "HMgQzqcTCdnZ",
        "outputId": "62d8c94c-efdf-4013-c408-883c1657da7d"
      },
      "execution_count": null,
      "outputs": [
        {
          "output_type": "stream",
          "name": "stdout",
          "text": [
            "Looking in indexes: https://pypi.org/simple, https://us-python.pkg.dev/colab-wheels/public/simple/\n",
            "Collecting pyLDAvis\n",
            "  Downloading pyLDAvis-3.3.1.tar.gz (1.7 MB)\n",
            "\u001b[K     |████████████████████████████████| 1.7 MB 20.4 MB/s \n",
            "\u001b[?25h  Installing build dependencies ... \u001b[?25l\u001b[?25hdone\n",
            "  Getting requirements to build wheel ... \u001b[?25l\u001b[?25hdone\n",
            "  Installing backend dependencies ... \u001b[?25l\u001b[?25hdone\n",
            "    Preparing wheel metadata ... \u001b[?25l\u001b[?25hdone\n",
            "Requirement already satisfied: joblib in /usr/local/lib/python3.7/dist-packages (from pyLDAvis) (1.1.0)\n",
            "Requirement already satisfied: setuptools in /usr/local/lib/python3.7/dist-packages (from pyLDAvis) (57.4.0)\n",
            "Requirement already satisfied: numpy>=1.20.0 in /usr/local/lib/python3.7/dist-packages (from pyLDAvis) (1.21.6)\n",
            "Requirement already satisfied: pandas>=1.2.0 in /usr/local/lib/python3.7/dist-packages (from pyLDAvis) (1.3.5)\n",
            "Requirement already satisfied: future in /usr/local/lib/python3.7/dist-packages (from pyLDAvis) (0.16.0)\n",
            "Requirement already satisfied: scikit-learn in /usr/local/lib/python3.7/dist-packages (from pyLDAvis) (1.0.2)\n",
            "Collecting funcy\n",
            "  Downloading funcy-1.17-py2.py3-none-any.whl (33 kB)\n",
            "Requirement already satisfied: gensim in /usr/local/lib/python3.7/dist-packages (from pyLDAvis) (3.6.0)\n",
            "Requirement already satisfied: sklearn in /usr/local/lib/python3.7/dist-packages (from pyLDAvis) (0.0)\n",
            "Requirement already satisfied: scipy in /usr/local/lib/python3.7/dist-packages (from pyLDAvis) (1.7.3)\n",
            "Requirement already satisfied: jinja2 in /usr/local/lib/python3.7/dist-packages (from pyLDAvis) (2.11.3)\n",
            "Requirement already satisfied: numexpr in /usr/local/lib/python3.7/dist-packages (from pyLDAvis) (2.8.3)\n",
            "Requirement already satisfied: pytz>=2017.3 in /usr/local/lib/python3.7/dist-packages (from pandas>=1.2.0->pyLDAvis) (2022.1)\n",
            "Requirement already satisfied: python-dateutil>=2.7.3 in /usr/local/lib/python3.7/dist-packages (from pandas>=1.2.0->pyLDAvis) (2.8.2)\n",
            "Requirement already satisfied: six>=1.5 in /usr/local/lib/python3.7/dist-packages (from python-dateutil>=2.7.3->pandas>=1.2.0->pyLDAvis) (1.15.0)\n",
            "Requirement already satisfied: smart-open>=1.2.1 in /usr/local/lib/python3.7/dist-packages (from gensim->pyLDAvis) (5.2.1)\n",
            "Requirement already satisfied: MarkupSafe>=0.23 in /usr/local/lib/python3.7/dist-packages (from jinja2->pyLDAvis) (2.0.1)\n",
            "Requirement already satisfied: packaging in /usr/local/lib/python3.7/dist-packages (from numexpr->pyLDAvis) (21.3)\n",
            "Requirement already satisfied: pyparsing!=3.0.5,>=2.0.2 in /usr/local/lib/python3.7/dist-packages (from packaging->numexpr->pyLDAvis) (3.0.9)\n",
            "Requirement already satisfied: threadpoolctl>=2.0.0 in /usr/local/lib/python3.7/dist-packages (from scikit-learn->pyLDAvis) (3.1.0)\n",
            "Building wheels for collected packages: pyLDAvis\n",
            "  Building wheel for pyLDAvis (PEP 517) ... \u001b[?25l\u001b[?25hdone\n",
            "  Created wheel for pyLDAvis: filename=pyLDAvis-3.3.1-py2.py3-none-any.whl size=136898 sha256=dfbbe8dd61958819289b2c37ff386498f6889a5913f2f3c5a6509f1e993b0332\n",
            "  Stored in directory: /root/.cache/pip/wheels/c9/21/f6/17bcf2667e8a68532ba2fbf6d5c72fdf4c7f7d9abfa4852d2f\n",
            "Successfully built pyLDAvis\n",
            "Installing collected packages: funcy, pyLDAvis\n",
            "Successfully installed funcy-1.17 pyLDAvis-3.3.1\n"
          ]
        }
      ]
    },
    {
      "cell_type": "markdown",
      "source": [
        "**Intertopic Distance (Visualisation)**"
      ],
      "metadata": {
        "id": "6drmgOgBxBs3"
      }
    },
    {
      "cell_type": "code",
      "source": [
        "import pyLDAvis.gensim_models\n",
        "import pickle\n",
        "import pyLDAvis\n",
        "# Visualize the topics\n",
        "pyLDAvis.enable_notebook()\n",
        "LDAvis_prepared = pyLDAvis.gensim_models.prepare(lda_model, corpus, id2word)\n",
        "LDAvis_prepared"
      ],
      "metadata": {
        "colab": {
          "base_uri": "https://localhost:8080/",
          "height": 951
        },
        "id": "PGtAKWgj37tD",
        "outputId": "387d7b02-c3de-4dd5-ee69-4e23fb942b6a"
      },
      "execution_count": null,
      "outputs": [
        {
          "output_type": "stream",
          "name": "stderr",
          "text": [
            "/usr/local/lib/python3.7/dist-packages/past/types/oldstr.py:5: DeprecationWarning: Using or importing the ABCs from 'collections' instead of from 'collections.abc' is deprecated since Python 3.3,and in 3.9 it will stop working\n",
            "  from collections import Iterable\n",
            "/usr/local/lib/python3.7/dist-packages/pyLDAvis/_prepare.py:247: FutureWarning: In a future version of pandas all arguments of DataFrame.drop except for the argument 'labels' will be keyword-only\n",
            "  by='saliency', ascending=False).head(R).drop('saliency', 1)\n"
          ]
        },
        {
          "output_type": "execute_result",
          "data": {
            "text/plain": [
              "PreparedData(topic_coordinates=              x    y  topics  cluster       Freq\n",
              "topic                                           \n",
              "0      0.156729  0.0       1        1  59.537717\n",
              "1     -0.156729  0.0       2        1  40.462283, topic_info=          Term        Freq       Total Category  logprob  loglift\n",
              "7          bug  669.000000  669.000000  Default  30.0000  30.0000\n",
              "11       fixes  663.000000  663.000000  Default  29.0000  29.0000\n",
              "160         yu  584.000000  584.000000  Default  28.0000  28.0000\n",
              "83   iprveents  449.000000  449.000000  Default  27.0000  27.0000\n",
              "63       added  268.000000  268.000000  Default  26.0000  26.0000\n",
              "..         ...         ...         ...      ...      ...      ...\n",
              "252        mre   37.929278   56.724847   Topic2  -5.8293   0.5023\n",
              "66     feature   44.396275   87.288959   Topic2  -5.6719   0.2287\n",
              "319       play   30.910385   40.312572   Topic2  -6.0339   0.6392\n",
              "16          se   45.247837  215.716818   Topic2  -5.6529  -0.6570\n",
              "30         app   39.731323  519.914734   Topic2  -5.7829  -1.6667\n",
              "\n",
              "[128 rows x 6 columns], token_table=      Topic      Freq    Term\n",
              "term                         \n",
              "189       1  0.148352     add\n",
              "189       2  0.858322     add\n",
              "63        1  0.037232   added\n",
              "63        2  0.960588   added\n",
              "74        1  0.998144     ade\n",
              "...     ...       ...     ...\n",
              "272       2  0.962773  widget\n",
              "160       1  0.980424      yu\n",
              "160       2  0.020532      yu\n",
              "161       1  0.946036     yur\n",
              "161       2  0.053641     yur\n",
              "\n",
              "[162 rows x 3 columns], R=30, lambda_step=0.01, plot_opts={'xlab': 'PC1', 'ylab': 'PC2'}, topic_order=[1, 2])"
            ],
            "text/html": [
              "\n",
              "<link rel=\"stylesheet\" type=\"text/css\" href=\"https://cdn.jsdelivr.net/gh/bmabey/pyLDAvis@3.3.1/pyLDAvis/js/ldavis.v1.0.0.css\">\n",
              "\n",
              "\n",
              "<div id=\"ldavis_el56139683130325584489860068\"></div>\n",
              "<script type=\"text/javascript\">\n",
              "\n",
              "var ldavis_el56139683130325584489860068_data = {\"mdsDat\": {\"x\": [0.15672912278994366, -0.15672912278994366], \"y\": [0.0, 0.0], \"topics\": [1, 2], \"cluster\": [1, 1], \"Freq\": [59.537716602855696, 40.46228339714431]}, \"tinfo\": {\"Term\": [\"bug\", \"fixes\", \"yu\", \"iprveents\", \"added\", \"perfrane\", \"de\", \"nan\", \"yur\", \"bugs\", \"app\", \"experiene\", \"fix\", \"update\", \"minr\", \"ur\", \"user\", \"updates\", \"us\", \"features\", \"better\", \"issue\", \"ake\", \"iprve\", \"enhaneents\", \"feedbak\", \"andrid\", \"add\", \"using\", \"stability\", \"fixes\", \"bug\", \"iprveents\", \"perfrane\", \"nan\", \"experiene\", \"us\", \"enhaneents\", \"better\", \"minr\", \"updates\", \"iprve\", \"ake\", \"feedbak\", \"stability\", \"using\", \"inludes\", \"latest\", \"thanks\", \"thank\", \"release\", \"bugs\", \"help\", \"please\", \"general\", \"seurity\", \"ade\", \"ur\", \"inr\", \"enjy\", \"yu\", \"user\", \"features\", \"yur\", \"update\", \"app\", \"interfae\", \"fr\", \"versin\", \"se\", \"new\", \"fixed\", \"iprved\", \"nw\", \"de\", \"issue\", \"ads\", \"dark\", \"en\", \"ptin\", \"la\", \"ver\", \"pliy\", \"para\", \"et\", \"reved\", \"vide\", \"size\", \"setting\", \"pr\", \"que\", \"widget\", \"file\", \"audi\", \"errrs\", \"navigatin\", \"save\", \"buttn\", \"reve\", \"thee\", \"plus\", \"text\", \"list\", \"japanese\", \"added\", \"latin\", \"ntifiatin\", \"hange\", \"fix\", \"add\", \"andrid\", \"nt\", \"settings\", \"fixed\", \"fr\", \"nw\", \"supprt\", \"searh\", \"new\", \"updated\", \"sreen\", \"tie\", \"iprved\", \"mre\", \"feature\", \"play\", \"se\", \"app\"], \"Freq\": [669.0, 663.0, 584.0, 449.0, 268.0, 301.0, 156.0, 238.0, 410.0, 243.0, 519.0, 201.0, 157.0, 245.0, 146.0, 155.0, 158.0, 130.0, 120.0, 136.0, 113.0, 64.0, 114.0, 111.0, 110.0, 104.0, 182.0, 94.0, 94.0, 89.0, 662.7155562864376, 668.9124521589532, 448.6215442636054, 300.59520241456437, 237.60115921606626, 200.90168894887555, 120.07900936706244, 109.65866964556474, 113.24764093894876, 146.26359397312663, 130.1766412385256, 111.05408851369909, 113.96511521230259, 103.68398678504708, 88.99826038701124, 94.48133264745441, 72.7433949122093, 83.59236469714578, 64.5513198359428, 74.30601053128598, 75.4970807613931, 241.57435156010905, 69.87944229751504, 70.74415401630617, 56.90636662572584, 55.79022776531146, 53.6704708502517, 154.0155831578168, 51.595463263854136, 58.38052221387175, 572.6800307693138, 156.1835809540961, 134.77806554043113, 388.2759541720247, 234.96350782364271, 480.1834115073119, 76.02308536400085, 503.7830185480139, 141.9022205390689, 170.46898096284158, 274.3777972144611, 197.91567784433795, 121.59974403419807, 93.44442993165791, 156.3393624879709, 63.612550858776835, 47.06257204466312, 34.304632588672014, 26.36688879346914, 29.991807922893077, 25.154058916133224, 28.894759843498314, 30.606760744162735, 21.668157841398635, 23.037497544516597, 24.871832711335223, 35.87918634497275, 27.998947479377453, 25.130552330648296, 22.65946082811648, 19.01587099394244, 20.248927468090965, 20.155527387724685, 30.950853182187544, 23.35748717200936, 23.931941744864343, 27.44348500210402, 19.944995367559923, 19.434709327672895, 24.722286854176588, 18.295252676790568, 19.44562760498413, 25.09382366628468, 18.463877735457032, 258.481105265004, 28.677550703536337, 29.885526678221645, 23.95067552631968, 131.76811430631022, 80.50102630606507, 126.30097392008673, 48.757205825819, 48.28512774921603, 171.6827530149145, 274.8216003337209, 103.5042957270328, 81.54384043356667, 42.47312298624174, 160.59120099074372, 71.95394051270598, 35.213700071850496, 35.599690460415715, 87.85789672274196, 37.929278385706596, 44.39627465951278, 30.910384970299173, 45.24783721308368, 39.73132278492291], \"Total\": [669.0, 663.0, 584.0, 449.0, 268.0, 301.0, 156.0, 238.0, 410.0, 243.0, 519.0, 201.0, 157.0, 245.0, 146.0, 155.0, 158.0, 130.0, 120.0, 136.0, 113.0, 64.0, 114.0, 111.0, 110.0, 104.0, 182.0, 94.0, 94.0, 89.0, 663.1992209999942, 669.4805694002148, 449.07303460109904, 301.0575546639503, 238.0179023143588, 201.4348264494496, 120.51222351080614, 110.07203729534979, 113.68270195360353, 146.85606412593378, 130.70953365981782, 111.52131010638747, 114.47598264670188, 104.1538087430681, 89.44730772241084, 94.99895975516617, 73.19406159183322, 84.12809420914357, 64.97827953013287, 74.79830577135502, 76.00097897077687, 243.27697055178265, 70.38415975315374, 71.26439373862144, 57.343318627439686, 56.22737359648411, 54.10043292990613, 155.3180632429383, 52.06823677990517, 58.94177559262023, 584.4411277522236, 158.43607938371653, 136.766982751228, 410.1323959785553, 245.19794729509493, 519.9147342922348, 77.18574166461494, 778.6046188817347, 168.91820166960397, 215.71681817592525, 434.9689982052048, 369.59843085925246, 209.45764075694, 196.9487256586907, 156.91199129871387, 64.31589290741654, 47.64385187434874, 34.92360260948098, 26.870006876770415, 30.580136324303844, 25.650911368316926, 29.480738905154315, 31.24114235089384, 22.152129116457797, 23.55254595076595, 25.429461312314764, 36.686520101642124, 28.630187655613426, 25.743665921183812, 23.218017390676113, 19.503753760860793, 20.773322786778227, 20.685762459273562, 31.79942123537575, 24.016750234167922, 24.616865853764043, 28.23135494159112, 20.520936526372775, 20.003941401951504, 25.452912527067078, 18.840506845358103, 20.045897585732742, 25.879188817346, 19.05867731794951, 268.58538434538644, 29.716027311230278, 31.18312323766999, 24.87200377806924, 157.7695095248134, 94.37013822670895, 182.3120490141806, 60.190428370377695, 59.505838494262164, 369.59843085925246, 778.6046188817347, 196.9487256586907, 143.34548307623646, 56.78898900089345, 434.9689982052048, 131.61965902606943, 44.848104571749666, 45.78800215049564, 209.45764075694, 56.724847213537544, 87.28895920013005, 40.31257249717067, 215.71681817592525, 519.9147342922348], \"Category\": [\"Default\", \"Default\", \"Default\", \"Default\", \"Default\", \"Default\", \"Default\", \"Default\", \"Default\", \"Default\", \"Default\", \"Default\", \"Default\", \"Default\", \"Default\", \"Default\", \"Default\", \"Default\", \"Default\", \"Default\", \"Default\", \"Default\", \"Default\", \"Default\", \"Default\", \"Default\", \"Default\", \"Default\", \"Default\", \"Default\", \"Topic1\", \"Topic1\", \"Topic1\", \"Topic1\", \"Topic1\", \"Topic1\", \"Topic1\", \"Topic1\", \"Topic1\", \"Topic1\", \"Topic1\", \"Topic1\", \"Topic1\", \"Topic1\", \"Topic1\", \"Topic1\", \"Topic1\", \"Topic1\", \"Topic1\", \"Topic1\", \"Topic1\", \"Topic1\", \"Topic1\", \"Topic1\", \"Topic1\", \"Topic1\", \"Topic1\", \"Topic1\", \"Topic1\", \"Topic1\", \"Topic1\", \"Topic1\", \"Topic1\", \"Topic1\", \"Topic1\", \"Topic1\", \"Topic1\", \"Topic1\", \"Topic1\", \"Topic1\", \"Topic1\", \"Topic1\", \"Topic1\", \"Topic1\", \"Topic2\", \"Topic2\", \"Topic2\", \"Topic2\", \"Topic2\", \"Topic2\", \"Topic2\", \"Topic2\", \"Topic2\", \"Topic2\", \"Topic2\", \"Topic2\", \"Topic2\", \"Topic2\", \"Topic2\", \"Topic2\", \"Topic2\", \"Topic2\", \"Topic2\", \"Topic2\", \"Topic2\", \"Topic2\", \"Topic2\", \"Topic2\", \"Topic2\", \"Topic2\", \"Topic2\", \"Topic2\", \"Topic2\", \"Topic2\", \"Topic2\", \"Topic2\", \"Topic2\", \"Topic2\", \"Topic2\", \"Topic2\", \"Topic2\", \"Topic2\", \"Topic2\", \"Topic2\", \"Topic2\", \"Topic2\", \"Topic2\", \"Topic2\", \"Topic2\", \"Topic2\", \"Topic2\", \"Topic2\", \"Topic2\", \"Topic2\", \"Topic2\", \"Topic2\", \"Topic2\", \"Topic2\"], \"logprob\": [30.0, 29.0, 28.0, 27.0, 26.0, 25.0, 24.0, 23.0, 22.0, 21.0, 20.0, 19.0, 18.0, 17.0, 16.0, 15.0, 14.0, 13.0, 12.0, 11.0, 10.0, 9.0, 8.0, 7.0, 6.0, 5.0, 4.0, 3.0, 2.0, 1.0, -3.3549, -3.3456, -3.7451, -4.1455, -4.3807, -4.5485, -5.0631, -5.1539, -5.1217, -4.8659, -4.9824, -5.1413, -5.1154, -5.2099, -5.3627, -5.3029, -5.5643, -5.4253, -5.6838, -5.5431, -5.5272, -4.3641, -5.6045, -5.5922, -5.8099, -5.8297, -5.8684, -4.8142, -5.9078, -5.7843, -3.5009, -4.8002, -4.9476, -3.8896, -4.3918, -3.6771, -5.5202, -3.6291, -4.8961, -4.7127, -4.2368, -4.5634, -5.0505, -5.3139, -4.413, -5.3122, -5.6136, -5.9297, -6.1929, -6.0641, -6.24, -6.1014, -6.0438, -6.3892, -6.3279, -6.2513, -5.8849, -6.1329, -6.2409, -6.3445, -6.5198, -6.4569, -6.4615, -6.0326, -6.3141, -6.2898, -6.1529, -6.4721, -6.498, -6.2573, -6.5584, -6.4974, -6.2424, -6.5492, -3.9102, -6.1089, -6.0677, -6.289, -4.584, -5.0768, -4.6264, -5.5782, -5.5879, -4.3194, -3.8489, -4.8254, -5.0639, -5.7162, -4.3862, -5.189, -5.9036, -5.8927, -4.9893, -5.8293, -5.6719, -6.0339, -5.6529, -5.7829], \"loglift\": [30.0, 29.0, 28.0, 27.0, 26.0, 25.0, 24.0, 23.0, 22.0, 21.0, 20.0, 19.0, 18.0, 17.0, 16.0, 15.0, 14.0, 13.0, 12.0, 11.0, 10.0, 9.0, 8.0, 7.0, 6.0, 5.0, 4.0, 3.0, 2.0, 1.0, 0.5178, 0.5177, 0.5176, 0.517, 0.5168, 0.5159, 0.515, 0.5148, 0.5147, 0.5145, 0.5145, 0.5144, 0.5141, 0.514, 0.5135, 0.5131, 0.5124, 0.5122, 0.512, 0.512, 0.5119, 0.5115, 0.5114, 0.5112, 0.5109, 0.5108, 0.5106, 0.5101, 0.5094, 0.509, 0.4982, 0.5042, 0.5039, 0.4638, 0.4759, 0.4391, 0.5034, 0.0832, 0.3443, 0.2831, 0.0578, -0.106, -0.0252, -0.227, 0.9011, 0.8938, 0.8925, 0.8869, 0.8859, 0.8854, 0.8852, 0.8847, 0.8843, 0.8827, 0.8827, 0.8826, 0.8825, 0.8825, 0.8807, 0.8804, 0.8795, 0.8792, 0.8788, 0.8778, 0.877, 0.8766, 0.8765, 0.8763, 0.8759, 0.8757, 0.8754, 0.8744, 0.874, 0.8731, 0.8665, 0.8692, 0.8623, 0.8671, 0.7247, 0.7458, 0.5377, 0.6941, 0.6958, 0.138, -0.1366, 0.2615, 0.3407, 0.6143, -0.0916, 0.3009, 0.663, 0.6531, 0.036, 0.5023, 0.2287, 0.6392, -0.657, -1.6667]}, \"token.table\": {\"Topic\": [1, 2, 1, 2, 1, 1, 2, 1, 2, 1, 2, 1, 2, 1, 2, 1, 1, 2, 1, 2, 1, 2, 1, 2, 1, 2, 1, 2, 1, 1, 2, 1, 2, 1, 2, 1, 2, 1, 2, 1, 2, 1, 1, 2, 1, 2, 1, 2, 1, 1, 2, 1, 1, 2, 1, 2, 1, 1, 1, 2, 1, 1, 2, 1, 1, 2, 1, 2, 2, 1, 2, 1, 2, 1, 2, 1, 2, 1, 2, 1, 1, 2, 1, 2, 1, 2, 1, 2, 1, 2, 2, 1, 1, 2, 1, 2, 1, 2, 1, 2, 1, 2, 1, 2, 2, 1, 2, 1, 2, 1, 2, 1, 2, 1, 2, 1, 2, 1, 2, 1, 2, 1, 1, 2, 1, 2, 1, 1, 2, 1, 2, 1, 1, 1, 2, 1, 2, 1, 2, 1, 2, 1, 2, 1, 2, 1, 1, 2, 1, 2, 1, 2, 1, 2, 1, 2, 1, 2, 1, 2, 1, 2], \"Freq\": [0.14835201328588998, 0.8583223625826492, 0.03723210786161221, 0.960588382829595, 0.9981435836190766, 0.020989067018286067, 0.9864861498594452, 0.9958420741565428, 0.008735456790846866, 0.3071656552751717, 0.6911227243691364, 0.9232283071443029, 0.07693569226202525, 0.03144711322253673, 0.9748605098986386, 0.9939946716442212, 0.9992821757311862, 0.0014936953299419823, 0.9947509599906381, 0.008221082313972216, 0.04873071941501479, 0.9746143883002958, 0.028633930215679476, 0.9735536273331021, 0.006372999231755951, 0.9941878801539283, 0.03721621675000453, 0.9676216355001178, 0.9993455440898537, 0.98402193379566, 0.01696589541027, 0.04163760668074607, 0.9576649536571595, 0.04245825492031273, 0.9765398631671928, 0.9978413541634584, 0.00496438484658437, 0.4926167111399804, 0.5040729137246311, 0.9870803412074824, 0.014623412462333073, 0.9985232537828019, 0.04834242885505501, 0.9668485771011003, 0.16479736850491264, 0.8366635631787873, 0.5357165601046634, 0.46536994110102076, 0.9996996061007223, 0.6473118547946278, 0.35319595251691, 0.9940129271263453, 0.04020584786504997, 0.9649403487611994, 0.9945419572457633, 0.014207742246368046, 0.9973486702662382, 0.9986894739648357, 0.9846378147175525, 0.012955760719967797, 0.9953254664432281, 0.5824566702800397, 0.4201326802019958, 0.9998373658726494, 0.015548256500761195, 0.9950884160487165, 0.05246953832720582, 0.9444516898897047, 0.9746242400914882, 0.9984773908128107, 0.011886635604914413, 0.033651873769212755, 0.9759043393071699, 0.03864108751854431, 0.9660271879636076, 0.9941707267518781, 0.0068093885393964255, 0.3349502190543688, 0.6699004381087376, 0.9999247858493637, 0.04062255552516223, 0.9749413326038936, 0.6299299516301052, 0.370141321943237, 0.18275330975071735, 0.8140829252531955, 0.03206862867385827, 0.9620588602157482, 0.4722041216005005, 0.5280562220048608, 0.9931325284509662, 0.9998088250467105, 0.22325541245554753, 0.7689908651246637, 0.9962899601785548, 0.014032252960261334, 0.032009072804323656, 0.9922812569340334, 0.05307712834946256, 0.9553883102903261, 0.04306999961166279, 0.9906099910682441, 0.03270096605832463, 0.9810289817497388, 0.9741714458130771, 0.9868293937218656, 0.013157725249624875, 0.049990148436569806, 0.9498128202948263, 0.0393244665200882, 0.9831116630022049, 0.03542160842329164, 0.9563834274288742, 0.7880702183422645, 0.20860682250236415, 0.24652666381822258, 0.7395799914546678, 0.038844506569560684, 0.971112664239017, 0.18485581042708393, 0.8066435364090935, 0.995956176112442, 0.03492816784957165, 0.9779886997880062, 0.2229748636088205, 0.7804120226308717, 0.9949992041817625, 0.4325214765715784, 0.572044533530152, 0.04988551875630301, 0.9478248563697572, 0.9893272212101262, 1.000334272775829, 0.0392882346543478, 0.982205866358695, 0.21839782323614118, 0.7862321636501083, 0.9584093284320128, 0.04078337567795799, 0.45585895332030923, 0.547030743984371, 0.9945716762966622, 0.007650551356128171, 0.991513780075427, 0.006438401169320955, 0.9957496136418045, 0.9846242131641203, 0.012623387348257954, 0.9894845190122006, 0.010526431053321282, 0.033920452374589675, 0.9836931188631007, 0.8406435694700639, 0.1598406787020544, 0.02725796824635976, 0.9812868568689513, 0.048138663720975756, 0.9627732744195151, 0.9804238148053912, 0.020532435912154787, 0.9460359722968275, 0.05364121492404692], \"Term\": [\"add\", \"add\", \"added\", \"added\", \"ade\", \"ads\", \"ads\", \"ake\", \"ake\", \"andrid\", \"andrid\", \"app\", \"app\", \"audi\", \"audi\", \"better\", \"bug\", \"bug\", \"bugs\", \"bugs\", \"buttn\", \"buttn\", \"dark\", \"dark\", \"de\", \"de\", \"en\", \"en\", \"enhaneents\", \"enjy\", \"enjy\", \"errrs\", \"errrs\", \"et\", \"et\", \"experiene\", \"experiene\", \"feature\", \"feature\", \"features\", \"features\", \"feedbak\", \"file\", \"file\", \"fix\", \"fix\", \"fixed\", \"fixed\", \"fixes\", \"fr\", \"fr\", \"general\", \"hange\", \"hange\", \"help\", \"help\", \"inludes\", \"inr\", \"interfae\", \"interfae\", \"iprve\", \"iprved\", \"iprved\", \"iprveents\", \"issue\", \"issue\", \"japanese\", \"japanese\", \"la\", \"latest\", \"latest\", \"latin\", \"latin\", \"list\", \"list\", \"minr\", \"minr\", \"mre\", \"mre\", \"nan\", \"navigatin\", \"navigatin\", \"new\", \"new\", \"nt\", \"nt\", \"ntifiatin\", \"ntifiatin\", \"nw\", \"nw\", \"para\", \"perfrane\", \"play\", \"play\", \"please\", \"please\", \"pliy\", \"pliy\", \"plus\", \"plus\", \"pr\", \"pr\", \"ptin\", \"ptin\", \"que\", \"release\", \"release\", \"reve\", \"reve\", \"reved\", \"reved\", \"save\", \"save\", \"se\", \"se\", \"searh\", \"searh\", \"setting\", \"setting\", \"settings\", \"settings\", \"seurity\", \"size\", \"size\", \"sreen\", \"sreen\", \"stability\", \"supprt\", \"supprt\", \"text\", \"text\", \"thank\", \"thanks\", \"thee\", \"thee\", \"tie\", \"tie\", \"update\", \"update\", \"updated\", \"updated\", \"updates\", \"updates\", \"ur\", \"ur\", \"us\", \"user\", \"user\", \"using\", \"using\", \"ver\", \"ver\", \"versin\", \"versin\", \"vide\", \"vide\", \"widget\", \"widget\", \"yu\", \"yu\", \"yur\", \"yur\"]}, \"R\": 30, \"lambda.step\": 0.01, \"plot.opts\": {\"xlab\": \"PC1\", \"ylab\": \"PC2\"}, \"topic.order\": [1, 2]};\n",
              "\n",
              "function LDAvis_load_lib(url, callback){\n",
              "  var s = document.createElement('script');\n",
              "  s.src = url;\n",
              "  s.async = true;\n",
              "  s.onreadystatechange = s.onload = callback;\n",
              "  s.onerror = function(){console.warn(\"failed to load library \" + url);};\n",
              "  document.getElementsByTagName(\"head\")[0].appendChild(s);\n",
              "}\n",
              "\n",
              "if(typeof(LDAvis) !== \"undefined\"){\n",
              "   // already loaded: just create the visualization\n",
              "   !function(LDAvis){\n",
              "       new LDAvis(\"#\" + \"ldavis_el56139683130325584489860068\", ldavis_el56139683130325584489860068_data);\n",
              "   }(LDAvis);\n",
              "}else if(typeof define === \"function\" && define.amd){\n",
              "   // require.js is available: use it to load d3/LDAvis\n",
              "   require.config({paths: {d3: \"https://d3js.org/d3.v5\"}});\n",
              "   require([\"d3\"], function(d3){\n",
              "      window.d3 = d3;\n",
              "      LDAvis_load_lib(\"https://cdn.jsdelivr.net/gh/bmabey/pyLDAvis@3.3.1/pyLDAvis/js/ldavis.v3.0.0.js\", function(){\n",
              "        new LDAvis(\"#\" + \"ldavis_el56139683130325584489860068\", ldavis_el56139683130325584489860068_data);\n",
              "      });\n",
              "    });\n",
              "}else{\n",
              "    // require.js not available: dynamically load d3 & LDAvis\n",
              "    LDAvis_load_lib(\"https://d3js.org/d3.v5.js\", function(){\n",
              "         LDAvis_load_lib(\"https://cdn.jsdelivr.net/gh/bmabey/pyLDAvis@3.3.1/pyLDAvis/js/ldavis.v3.0.0.js\", function(){\n",
              "                 new LDAvis(\"#\" + \"ldavis_el56139683130325584489860068\", ldavis_el56139683130325584489860068_data);\n",
              "            })\n",
              "         });\n",
              "}\n",
              "</script>"
            ]
          },
          "metadata": {},
          "execution_count": 20
        }
      ]
    },
    {
      "cell_type": "code",
      "source": [
        "def format_topics_sentences(ldamodel=lda_model, corpus=corpus, texts=data_words):\n",
        "    # Init output\n",
        "    sent_topics_df = pd.DataFrame()\n",
        "\n",
        "    # Get main topic in each document\n",
        "    for i, row in enumerate(ldamodel[corpus]):\n",
        "        row = sorted(row, key=lambda x: (x[1]), reverse=True)\n",
        "        # Get the Dominant topic, Perc Contribution and Keywords for each document\n",
        "        for j, (topic_num, prop_topic) in enumerate(row):\n",
        "            if j == 0:  # => dominant topic\n",
        "                wp = ldamodel.show_topic(topic_num)\n",
        "                topic_keywords = \", \".join([word for word, prop in wp])\n",
        "                sent_topics_df = sent_topics_df.append(pd.Series([int(topic_num), round(prop_topic,4), topic_keywords]), ignore_index=True)\n",
        "            else:\n",
        "                break\n",
        "    sent_topics_df.columns = ['Dominant_Topic', 'Perc_Contribution', 'Topic_Keywords']\n",
        "\n",
        "    # Add original text to the end of the output\n",
        "    contents = pd.Series(texts)\n",
        "    sent_topics_df = pd.concat([sent_topics_df, contents], axis=1)\n",
        "    return(sent_topics_df)\n",
        "\n",
        "\n",
        "df_topic_sents_keywords = format_topics_sentences(ldamodel=lda_model, corpus=corpus, texts=data)\n",
        "\n",
        "# Format\n",
        "df_dominant_topic = df_topic_sents_keywords.reset_index()\n",
        "df_dominant_topic.columns = ['Document_No', 'Dominant_Topic', 'Topic_Perc_Contrib', 'Keywords', 'Text']\n",
        "df_dominant_topic.insert (1, \"App_name\", papers['title'])\n",
        "del df_dominant_topic['Document_No']\n",
        "# Show\n",
        "df_dominant_topic.head(10)"
      ],
      "metadata": {
        "colab": {
          "base_uri": "https://localhost:8080/",
          "height": 407
        },
        "id": "W_OXdoY8SsVh",
        "outputId": "4eb721db-964e-4a4e-af2d-1656220cbda0"
      },
      "execution_count": null,
      "outputs": [
        {
          "output_type": "execute_result",
          "data": {
            "text/plain": [
              "                         App_name  Dominant_Topic  Topic_Perc_Contrib  \\\n",
              "0  Eye Filter (Blue light filter)             1.0              0.6385   \n",
              "1   Drizly: Fast alcohol delivery             0.0              0.9644   \n",
              "2              Card Maker for PKM             0.0              0.6940   \n",
              "3   Progression - Workout Tracker             0.0              0.7499   \n",
              "4                     My Finances             1.0              0.8818   \n",
              "5        0-200 Situps Abs Trainer             1.0              0.5508   \n",
              "6             WDSU Parade Tracker             0.0              0.7585   \n",
              "7                Animal Planet GO             0.0              0.8219   \n",
              "8     Fuelmeter: Fuel consumption             0.0              0.7499   \n",
              "9    Wishbone -  Compare Anything             0.0              0.8333   \n",
              "\n",
              "                                            Keywords  \\\n",
              "0  fr, added, fixed, new, de, fix, andrid, nw, ip...   \n",
              "1  bug, fixes, yu, fr, app, iprveents, yur, perfr...   \n",
              "2  bug, fixes, yu, fr, app, iprveents, yur, perfr...   \n",
              "3  bug, fixes, yu, fr, app, iprveents, yur, perfr...   \n",
              "4  fr, added, fixed, new, de, fix, andrid, nw, ip...   \n",
              "5  fr, added, fixed, new, de, fix, andrid, nw, ip...   \n",
              "6  bug, fixes, yu, fr, app, iprveents, yur, perfr...   \n",
              "7  bug, fixes, yu, fr, app, iprveents, yur, perfr...   \n",
              "8  bug, fixes, yu, fr, app, iprveents, yur, perfr...   \n",
              "9  bug, fixes, yu, fr, app, iprveents, yur, perfr...   \n",
              "\n",
              "                                                Text  \n",
              "0            minr iprveent.\\r\\nallw reve ads by iap.  \n",
              "1  fixes bug with faebk lgin and reating a new dr...  \n",
              "2                       - 🛠 iprveent and bug fix !!   \n",
              "3                                                nan  \n",
              "4                               fix fr fullsreen ads  \n",
              "5    suer is in full effet, let's get that beah bdy!  \n",
              "6  as parades begin t return t new orleans the wd...  \n",
              "7  • nw streaing ntent fr up t 14 netwrks fr the ...  \n",
              "8                                                nan  \n",
              "9                                          bug fixes  "
            ],
            "text/html": [
              "\n",
              "  <div id=\"df-113cc9b4-bf78-4161-95b4-1424d2ef53f8\">\n",
              "    <div class=\"colab-df-container\">\n",
              "      <div>\n",
              "<style scoped>\n",
              "    .dataframe tbody tr th:only-of-type {\n",
              "        vertical-align: middle;\n",
              "    }\n",
              "\n",
              "    .dataframe tbody tr th {\n",
              "        vertical-align: top;\n",
              "    }\n",
              "\n",
              "    .dataframe thead th {\n",
              "        text-align: right;\n",
              "    }\n",
              "</style>\n",
              "<table border=\"1\" class=\"dataframe\">\n",
              "  <thead>\n",
              "    <tr style=\"text-align: right;\">\n",
              "      <th></th>\n",
              "      <th>App_name</th>\n",
              "      <th>Dominant_Topic</th>\n",
              "      <th>Topic_Perc_Contrib</th>\n",
              "      <th>Keywords</th>\n",
              "      <th>Text</th>\n",
              "    </tr>\n",
              "  </thead>\n",
              "  <tbody>\n",
              "    <tr>\n",
              "      <th>0</th>\n",
              "      <td>Eye Filter (Blue light filter)</td>\n",
              "      <td>1.0</td>\n",
              "      <td>0.6385</td>\n",
              "      <td>fr, added, fixed, new, de, fix, andrid, nw, ip...</td>\n",
              "      <td>minr iprveent.\\r\\nallw reve ads by iap.</td>\n",
              "    </tr>\n",
              "    <tr>\n",
              "      <th>1</th>\n",
              "      <td>Drizly: Fast alcohol delivery</td>\n",
              "      <td>0.0</td>\n",
              "      <td>0.9644</td>\n",
              "      <td>bug, fixes, yu, fr, app, iprveents, yur, perfr...</td>\n",
              "      <td>fixes bug with faebk lgin and reating a new dr...</td>\n",
              "    </tr>\n",
              "    <tr>\n",
              "      <th>2</th>\n",
              "      <td>Card Maker for PKM</td>\n",
              "      <td>0.0</td>\n",
              "      <td>0.6940</td>\n",
              "      <td>bug, fixes, yu, fr, app, iprveents, yur, perfr...</td>\n",
              "      <td>- 🛠 iprveent and bug fix !!</td>\n",
              "    </tr>\n",
              "    <tr>\n",
              "      <th>3</th>\n",
              "      <td>Progression - Workout Tracker</td>\n",
              "      <td>0.0</td>\n",
              "      <td>0.7499</td>\n",
              "      <td>bug, fixes, yu, fr, app, iprveents, yur, perfr...</td>\n",
              "      <td>nan</td>\n",
              "    </tr>\n",
              "    <tr>\n",
              "      <th>4</th>\n",
              "      <td>My Finances</td>\n",
              "      <td>1.0</td>\n",
              "      <td>0.8818</td>\n",
              "      <td>fr, added, fixed, new, de, fix, andrid, nw, ip...</td>\n",
              "      <td>fix fr fullsreen ads</td>\n",
              "    </tr>\n",
              "    <tr>\n",
              "      <th>5</th>\n",
              "      <td>0-200 Situps Abs Trainer</td>\n",
              "      <td>1.0</td>\n",
              "      <td>0.5508</td>\n",
              "      <td>fr, added, fixed, new, de, fix, andrid, nw, ip...</td>\n",
              "      <td>suer is in full effet, let's get that beah bdy!</td>\n",
              "    </tr>\n",
              "    <tr>\n",
              "      <th>6</th>\n",
              "      <td>WDSU Parade Tracker</td>\n",
              "      <td>0.0</td>\n",
              "      <td>0.7585</td>\n",
              "      <td>bug, fixes, yu, fr, app, iprveents, yur, perfr...</td>\n",
              "      <td>as parades begin t return t new orleans the wd...</td>\n",
              "    </tr>\n",
              "    <tr>\n",
              "      <th>7</th>\n",
              "      <td>Animal Planet GO</td>\n",
              "      <td>0.0</td>\n",
              "      <td>0.8219</td>\n",
              "      <td>bug, fixes, yu, fr, app, iprveents, yur, perfr...</td>\n",
              "      <td>• nw streaing ntent fr up t 14 netwrks fr the ...</td>\n",
              "    </tr>\n",
              "    <tr>\n",
              "      <th>8</th>\n",
              "      <td>Fuelmeter: Fuel consumption</td>\n",
              "      <td>0.0</td>\n",
              "      <td>0.7499</td>\n",
              "      <td>bug, fixes, yu, fr, app, iprveents, yur, perfr...</td>\n",
              "      <td>nan</td>\n",
              "    </tr>\n",
              "    <tr>\n",
              "      <th>9</th>\n",
              "      <td>Wishbone -  Compare Anything</td>\n",
              "      <td>0.0</td>\n",
              "      <td>0.8333</td>\n",
              "      <td>bug, fixes, yu, fr, app, iprveents, yur, perfr...</td>\n",
              "      <td>bug fixes</td>\n",
              "    </tr>\n",
              "  </tbody>\n",
              "</table>\n",
              "</div>\n",
              "      <button class=\"colab-df-convert\" onclick=\"convertToInteractive('df-113cc9b4-bf78-4161-95b4-1424d2ef53f8')\"\n",
              "              title=\"Convert this dataframe to an interactive table.\"\n",
              "              style=\"display:none;\">\n",
              "        \n",
              "  <svg xmlns=\"http://www.w3.org/2000/svg\" height=\"24px\"viewBox=\"0 0 24 24\"\n",
              "       width=\"24px\">\n",
              "    <path d=\"M0 0h24v24H0V0z\" fill=\"none\"/>\n",
              "    <path d=\"M18.56 5.44l.94 2.06.94-2.06 2.06-.94-2.06-.94-.94-2.06-.94 2.06-2.06.94zm-11 1L8.5 8.5l.94-2.06 2.06-.94-2.06-.94L8.5 2.5l-.94 2.06-2.06.94zm10 10l.94 2.06.94-2.06 2.06-.94-2.06-.94-.94-2.06-.94 2.06-2.06.94z\"/><path d=\"M17.41 7.96l-1.37-1.37c-.4-.4-.92-.59-1.43-.59-.52 0-1.04.2-1.43.59L10.3 9.45l-7.72 7.72c-.78.78-.78 2.05 0 2.83L4 21.41c.39.39.9.59 1.41.59.51 0 1.02-.2 1.41-.59l7.78-7.78 2.81-2.81c.8-.78.8-2.07 0-2.86zM5.41 20L4 18.59l7.72-7.72 1.47 1.35L5.41 20z\"/>\n",
              "  </svg>\n",
              "      </button>\n",
              "      \n",
              "  <style>\n",
              "    .colab-df-container {\n",
              "      display:flex;\n",
              "      flex-wrap:wrap;\n",
              "      gap: 12px;\n",
              "    }\n",
              "\n",
              "    .colab-df-convert {\n",
              "      background-color: #E8F0FE;\n",
              "      border: none;\n",
              "      border-radius: 50%;\n",
              "      cursor: pointer;\n",
              "      display: none;\n",
              "      fill: #1967D2;\n",
              "      height: 32px;\n",
              "      padding: 0 0 0 0;\n",
              "      width: 32px;\n",
              "    }\n",
              "\n",
              "    .colab-df-convert:hover {\n",
              "      background-color: #E2EBFA;\n",
              "      box-shadow: 0px 1px 2px rgba(60, 64, 67, 0.3), 0px 1px 3px 1px rgba(60, 64, 67, 0.15);\n",
              "      fill: #174EA6;\n",
              "    }\n",
              "\n",
              "    [theme=dark] .colab-df-convert {\n",
              "      background-color: #3B4455;\n",
              "      fill: #D2E3FC;\n",
              "    }\n",
              "\n",
              "    [theme=dark] .colab-df-convert:hover {\n",
              "      background-color: #434B5C;\n",
              "      box-shadow: 0px 1px 3px 1px rgba(0, 0, 0, 0.15);\n",
              "      filter: drop-shadow(0px 1px 2px rgba(0, 0, 0, 0.3));\n",
              "      fill: #FFFFFF;\n",
              "    }\n",
              "  </style>\n",
              "\n",
              "      <script>\n",
              "        const buttonEl =\n",
              "          document.querySelector('#df-113cc9b4-bf78-4161-95b4-1424d2ef53f8 button.colab-df-convert');\n",
              "        buttonEl.style.display =\n",
              "          google.colab.kernel.accessAllowed ? 'block' : 'none';\n",
              "\n",
              "        async function convertToInteractive(key) {\n",
              "          const element = document.querySelector('#df-113cc9b4-bf78-4161-95b4-1424d2ef53f8');\n",
              "          const dataTable =\n",
              "            await google.colab.kernel.invokeFunction('convertToInteractive',\n",
              "                                                     [key], {});\n",
              "          if (!dataTable) return;\n",
              "\n",
              "          const docLinkHtml = 'Like what you see? Visit the ' +\n",
              "            '<a target=\"_blank\" href=https://colab.research.google.com/notebooks/data_table.ipynb>data table notebook</a>'\n",
              "            + ' to learn more about interactive tables.';\n",
              "          element.innerHTML = '';\n",
              "          dataTable['output_type'] = 'display_data';\n",
              "          await google.colab.output.renderOutput(dataTable, element);\n",
              "          const docLink = document.createElement('div');\n",
              "          docLink.innerHTML = docLinkHtml;\n",
              "          element.appendChild(docLink);\n",
              "        }\n",
              "      </script>\n",
              "    </div>\n",
              "  </div>\n",
              "  "
            ]
          },
          "metadata": {},
          "execution_count": 21
        }
      ]
    },
    {
      "cell_type": "code",
      "source": [
        "from google.colab import files\n",
        "df_dominant_topic.to_csv('Recent_Changes_analysis.csv', encoding = 'utf-8-sig')\n",
        "files.download('Recent_Changes_analysis.csv')"
      ],
      "metadata": {
        "colab": {
          "base_uri": "https://localhost:8080/",
          "height": 17
        },
        "id": "QIoAwwILgirO",
        "outputId": "5e0f4ff5-bb28-417d-f848-e8bdd344d952"
      },
      "execution_count": null,
      "outputs": [
        {
          "output_type": "display_data",
          "data": {
            "text/plain": [
              "<IPython.core.display.Javascript object>"
            ],
            "application/javascript": [
              "\n",
              "    async function download(id, filename, size) {\n",
              "      if (!google.colab.kernel.accessAllowed) {\n",
              "        return;\n",
              "      }\n",
              "      const div = document.createElement('div');\n",
              "      const label = document.createElement('label');\n",
              "      label.textContent = `Downloading \"${filename}\": `;\n",
              "      div.appendChild(label);\n",
              "      const progress = document.createElement('progress');\n",
              "      progress.max = size;\n",
              "      div.appendChild(progress);\n",
              "      document.body.appendChild(div);\n",
              "\n",
              "      const buffers = [];\n",
              "      let downloaded = 0;\n",
              "\n",
              "      const channel = await google.colab.kernel.comms.open(id);\n",
              "      // Send a message to notify the kernel that we're ready.\n",
              "      channel.send({})\n",
              "\n",
              "      for await (const message of channel.messages) {\n",
              "        // Send a message to notify the kernel that we're ready.\n",
              "        channel.send({})\n",
              "        if (message.buffers) {\n",
              "          for (const buffer of message.buffers) {\n",
              "            buffers.push(buffer);\n",
              "            downloaded += buffer.byteLength;\n",
              "            progress.value = downloaded;\n",
              "          }\n",
              "        }\n",
              "      }\n",
              "      const blob = new Blob(buffers, {type: 'application/binary'});\n",
              "      const a = document.createElement('a');\n",
              "      a.href = window.URL.createObjectURL(blob);\n",
              "      a.download = filename;\n",
              "      div.appendChild(a);\n",
              "      a.click();\n",
              "      div.remove();\n",
              "    }\n",
              "  "
            ]
          },
          "metadata": {}
        },
        {
          "output_type": "display_data",
          "data": {
            "text/plain": [
              "<IPython.core.display.Javascript object>"
            ],
            "application/javascript": [
              "download(\"download_88ae5bf5-af2c-4f26-a4e9-a78c667e2202\", \"Recent_Changes_analysis.csv\", 488138)"
            ]
          },
          "metadata": {}
        }
      ]
    }
  ]
}